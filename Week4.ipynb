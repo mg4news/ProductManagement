{
 "cells": [
  {
   "cell_type": "markdown",
   "metadata": {},
   "source": [
    "# Week 4: Amplifying existing products"
   ]
  },
  {
   "cell_type": "markdown",
   "metadata": {},
   "source": [
    "---\n",
    "# Focussed Tuning and Testing"
   ]
  },
  {
   "cell_type": "markdown",
   "metadata": {},
   "source": [
    "---\n",
    "## Identifying Business Model Types (see slides)\n",
    "\n",
    "### Want to:\n",
    "- optimize feasibility and viability, AND\n",
    "- keep the desirability dimension fresh\n",
    "\n",
    "### Three types:\n",
    "1. **Infrastructure driven**\n",
    "  - Business whose primary profit driver is scale\n",
    "  - Utilities (PG&E)\n",
    "  - Telecom (AT&T)\n",
    "  - Commodities (i.e. raw plastic vs plastic items)\n",
    "2. **Customer Scope driven**\n",
    "  - Driven by economy of Scope, how much of the buyers dollar in a certain area can we acquire\n",
    "  - Retail (Harrods)\n",
    "  - Banking (BoA)\n",
    "  - Corporate law\n",
    "3. **Product driven**\n",
    "  - Extracting a price premium and/or connecting with demand in a way that would not be possible without the special thing they have\n",
    "  - Packaged goods (Nestle, Pepsico, etc)\n",
    "  - App and SW (Twitter, EA, etc)\n",
    "  - Media (Conde Nast, MGM, etc)"
   ]
  },
  {
   "cell_type": "markdown",
   "metadata": {},
   "source": [
    "---\n",
    "## Business Model Design (Business Model Canvas)\n",
    "\n",
    "### How do we deliver:\n",
    "- Key Activities\n",
    "  - What activities are strategic?\n",
    "- Key Resources/assets\n",
    "  - What assets are strategic?\n",
    "  \n",
    "### Tune Architecture to Business Type:\n",
    "**Solution =**\n",
    "- Core application\n",
    "- API/Services\n",
    "- View layer/UI\n",
    "\n",
    "Dufferent models place different value and effort on the different aspects of the solution."
   ]
  },
  {
   "cell_type": "markdown",
   "metadata": {},
   "source": [
    "---\n",
    "## Strategic Foresight\n",
    "- Future Horizon depends on type of business\n",
    "  - Car company typically 6-7 years\n",
    "  - Aerospace typically 40-50 years\n",
    "  \n",
    "### Context Map\n",
    "- 8 lobes/petals/dimensions (like a flower), things like channel, content, objectives, skills, etc. Take inputs from stakeholders. Do it multiple times from different perspectives.\n",
    "\n",
    "### Top 3 things about Strategic Foresight\n",
    "- Its a mindset, the willingness to invest in the world you live in\n",
    "- Skillset (tools like context maps, etc)\n",
    "- Be collaborative\n",
    " "
   ]
  },
  {
   "cell_type": "markdown",
   "metadata": {},
   "source": [
    "---\n",
    "## The Trouble with New Features\n",
    "\n",
    "*Avoid the desire to build a complicated monument of SW*\n",
    "\n",
    "its good to unpack things, think though it sequentially and in a disciplined way, understand what result you are looking for, then incrementally update. "
   ]
  },
  {
   "cell_type": "markdown",
   "metadata": {},
   "source": [
    "---\n",
    "## The importance of Good Enough\n",
    "\n",
    "### Fake Feature Test\n",
    "Add a fake option on a product, see how many people click on it. Dont over-conclude, dont run it too long, just want to see if users take note. \n",
    "\n",
    "### Concierge Test New Features\n",
    "Hand-carried version of the new feature. Find a customer that wants to do this (ask questions to see if the problem exists for them)"
   ]
  },
  {
   "cell_type": "markdown",
   "metadata": {},
   "source": [
    "---\n",
    "## Actionable Analytics\n",
    "\n",
    "*actionable analytics are really a interdisciplinary function of qualitative and quantitative and substantial understanding, as well as number crunching*\n",
    "\n",
    "See slide 11 for the Analytics Process\n",
    "\n",
    "### Three tips:\n",
    "- Understand this is not just one persons job\n",
    "- Dont underestimate small wins (A/B testing)\n",
    "- Cant grow product based on bad product market fit or bad product\n",
    "\n",
    "### PM joing a company\n",
    "- Look at it from the outside. Cant be a good Product Manager till you use your own product.\n",
    "- Look at it from the inside. How does the process work. "
   ]
  },
  {
   "cell_type": "markdown",
   "metadata": {},
   "source": [
    "---\n",
    "## Applying Data Science\n",
    "\n",
    "- how you instrument data collection into how you build the product, the interfaces with the customer\n",
    "- bring strong narratives to the data scientists\n",
    "- zero in on questions of interest\n",
    "\n",
    "### Three tips:\n",
    "- Get informed about data science, look at current products and see which are informed by data science\n",
    "- align around a metric you want to improve\n",
    "- be open to bringing data scientists into the solution set early"
   ]
  },
  {
   "cell_type": "markdown",
   "metadata": {},
   "source": [
    "---\n",
    "## Continuous Integration and Delivery\n",
    "- About **speed to learning**, i.e. time from the idea to getting learning back from the customer.\n",
    "- **Automation rules**. Remove as many manual steps as possible\n",
    "- **Metrics**. Know what you are measuring and what success looks like\n"
   ]
  },
  {
   "cell_type": "markdown",
   "metadata": {},
   "source": [
    "---\n",
    "# Driving Growth Through Focus"
   ]
  },
  {
   "cell_type": "markdown",
   "metadata": {},
   "source": [
    "---\n",
    "## Managing a Channel or Modality (Growth PM)\n",
    "\n",
    "Growth PM doesn't add a lot of features, instead its about **increasing user base**. \n",
    "\n",
    "### Three tips:\n",
    "- **Build relationships**, you mey depend on other teams\n",
    "- Good with **data**\n",
    "- Be **there for your team**. Make sure the engineers are working for you well"
   ]
  },
  {
   "cell_type": "markdown",
   "metadata": {},
   "source": [
    "---\n",
    "## Its NOT a Meeting\n",
    "- Sharing Project Visibility:\n",
    "  - Agile questions for daily standup (What I did, what will i do, impediments)\n",
    "  - Create a project room (story map, kanban, etc = information radiators)\n",
    "- Clarifying understanding  \n",
    "  - Story writing workshop, shared authoring helps understanding\n",
    "- Estimating\n",
    "  - Dont get too precise, t-shirt sizes, Fibonacci. planning poker, story points\n",
    "- Managing Deadlines and Releases\n",
    "  - Rather than burndown, look at actual velocity\n",
    "- Introducing Personas and Empathy warmup\n",
    "  - Day in the Life\n",
    "    - Look at photos\n",
    "    - Make guesses about them\n",
    "    - No right answers, BUT - OBSERVE AND INFER\n",
    "    - OBJECTIVE = get a feel for whats real, start to create something vivid\n",
    "- The Demo (Demonstrating Software)\n",
    "  - focus on the outcome, design the agenda against that\n",
    "- Retrospective\n",
    "  - Very important, standard Agile Retrospective\n",
    "    - What went well\n",
    "    - What could have gone better\n",
    "    - What did we learn\n",
    "    - What to we want to do [keep + change + discard]\n",
    "  - Also **the 5 Whys**\n",
    "\n",
    "### Always create an agenda\n",
    "- Questions [timeboxed]\n",
    "- Expected output\n",
    "- Who needs to be there"
   ]
  },
  {
   "cell_type": "markdown",
   "metadata": {},
   "source": [
    "---\n",
    "## Roadmap\n",
    "\n",
    "Legacy Scale friendly approach: Plans create the **appearance** of certainty\n",
    "\n",
    "But if you lock in details, when they dont happen you have dissapointed partners\n",
    "\n",
    "Modern Innovation Friendly:\n",
    "- short term, the focus on what we are doing\n",
    "- mid term, say 6 months. State the large scale problems [without solution details] that we need to solve\n",
    "  - look at the stakeholders, and tailor the view to the things they need to see and the decisions they need to make"
   ]
  }
 ],
 "metadata": {
  "kernelspec": {
   "display_name": "Python 3",
   "language": "python",
   "name": "python3"
  },
  "language_info": {
   "codemirror_mode": {
    "name": "ipython",
    "version": 3
   },
   "file_extension": ".py",
   "mimetype": "text/x-python",
   "name": "python",
   "nbconvert_exporter": "python",
   "pygments_lexer": "ipython3",
   "version": "3.7.3"
  }
 },
 "nbformat": 4,
 "nbformat_minor": 2
}
