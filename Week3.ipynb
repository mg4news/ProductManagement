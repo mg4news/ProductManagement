{
 "cells": [
  {
   "cell_type": "markdown",
   "metadata": {},
   "source": [
    "# Exploring a New Product Idea\n",
    "\n",
    "Also applies to large new features. There is a Difference between this, vs extending existing products. \n",
    "\n",
    "**As few as 1 in 10 new products succeed!**\n",
    "\n",
    "[Alexander Cowan's website](https://www.alexandercowan.com)"
   ]
  },
  {
   "cell_type": "markdown",
   "metadata": {},
   "source": [
    "---\n",
    "## Learning vs Scaling\n",
    "\n",
    "New products are treated **radically different** to scaling up a product or market fit. \n",
    "\n",
    "### Four Steps to the Epiphany (see the slides)\n",
    "1. **Customer Discovery**\n",
    "  - Ideas for an MVP\n",
    "  - May have to iterate several times\n",
    "2. **Customer Validation**\n",
    "  - Find Product Market Fit\n",
    "  - May take iterations\n",
    "3. **Customer Creation**\n",
    "  - Scale\n",
    "4. **Company Building**\n",
    "  - Build a business around the product"
   ]
  },
  {
   "cell_type": "markdown",
   "metadata": {},
   "source": [
    "---\n",
    "## The Importance of Good Enough MVP\n",
    "\n",
    "MVP is **NOT** your 1.0, not your real product\n",
    "\n",
    "MVP is **NOT** a basic model of the end product, showing how it works. This is a **prototype**\n",
    "\n",
    "MVP tests for value\n",
    "\n",
    "**Start with:**\n",
    "- Problem Scenario\n",
    "  - What job(s) are you doing for the customer? (make sure there is no bias)\n",
    "- Alternative(s)\n",
    "  - What are they doing now?\n",
    "- Your Value Propositions\n",
    "  - Are they better enough than the alternative(s)?\n",
    "\n",
    "\n",
    "We create an MVP to see if we really have something, a proposition thats vauable to them. Sketch out all three:\n",
    "- **Concierge**\n",
    "  - Actual installation\n",
    "- **Wizard of Oz**\n",
    "  - Online demo\n",
    "  - Infomercials\n",
    "  - Google AdWord ads\n",
    "- **Sales**\n",
    "  - Offer customer discounts to see if thet are willing to sign up for the new product to be launched\n",
    "\n",
    "Then see which is quicker to deliver value\n"
   ]
  },
  {
   "cell_type": "markdown",
   "metadata": {},
   "source": [
    "---\n",
    "## Non-Titular Product Manager\n",
    "\n",
    "Product focussed startup CEO is a good example\n",
    "\n",
    "How to manage the multi-role:\n",
    "- Focus the entire organisation around the product roadmap\n",
    "- compartmentalise, you wear lots of hats, keep them separate\n",
    "- be as analytical as possible\n",
    "- trust your team"
   ]
  },
  {
   "cell_type": "markdown",
   "metadata": {},
   "source": [
    "---\n",
    "# Innovating in the Corporation"
   ]
  },
  {
   "cell_type": "markdown",
   "metadata": {},
   "source": [
    "---\n",
    "## Horizons of Growth (see slides)\n",
    "\n",
    "Innovating inside the corporation. \n",
    "\n",
    "E.g. You can see this in the form of investments, in programs, and bold new product launches. Nobody wants to be the blockbuster video of somebody else's Netflix. They want to be their own Netflix. They don't want to get disrupted by streaming video, they want to take advantage of the disruption catalysts that are happening in their industry, and they want to capitalize on them.\n",
    "\n",
    "### Horizons of Growth Framework\n",
    "- Horizon 1 = the existing business\n",
    "  - mature business\n",
    "  - well established product market\n",
    "  - job as PM is to optimise for profitability\n",
    "  - time horizon of 6-12 months\n",
    "  - generate cash to allow investment in innovation\n",
    "- Horizon 2 = new technology OR new business model (not both) \n",
    "  - 1-3 years\n",
    "- Horizon 3 = new technology AND new business model\n",
    "  - disciplined experimentation\n",
    "  - operate like a small scale venture capitalist, make lost of small bets, VC-like\n",
    "  \n",
    "Risk and novelty increases from H1->H3"
   ]
  },
  {
   "cell_type": "markdown",
   "metadata": {},
   "source": [
    "---\n",
    "## Corporate Innovation Pipeline\n",
    "\n",
    "**Successful corp moves resources from H1 business, and invests them in H2 and H3, recommended balance:**\n",
    "- H1 = 70%\n",
    "- H2 = 20%\n",
    "- H3 = 10%\n",
    "\n",
    "### Innovation pipeline (actually more like a funnel):\n",
    "1. Idea Generation (H3)\n",
    "  - Generate a lot of ideas\n",
    "  - can duplicate effort\n",
    "2. Concept Testing  (H3)\n",
    "  - Test out the ideas\n",
    "  - 90-120 day period over 1 + 2\n",
    "  - let the ideas that arent ready die, iterate to new things\n",
    "  - run a disciplined process\n",
    "3. Fledgling Business (H2)\n",
    "  - See if the businesses are scalable, some wont be\n",
    "4. Mature Business (H1)\n",
    "  - A few may become H1\n",
    "  - Avoid duplication of effort\n",
    "\n",
    "Maps roughly to \"4 Steps to the Epiphany\"\n",
    "\n",
    "[Corporate Innovation Canvas](https://www.alexandercowan.com/corporate-innovation-canvas/)\n",
    "See the website and the slides. "
   ]
  },
  {
   "cell_type": "markdown",
   "metadata": {},
   "source": [
    "---\n",
    "## Creating a healthy Innovation Pipeline\n",
    "\n",
    "### *Steve Blank = \"you have to go outside the building to come up with good ideas\"*\n",
    "\n",
    "### Idea Generation\n",
    "- Subject interviews\n",
    "- Reverse hackathons\n",
    "  - Customers come with problems, reverse out the ideas and motivations\n",
    "- Customer comments\n",
    "- Consulting and support organisation\n",
    "- Open innovation, innovation outposts in specific areas of interest,collaborating with universities\n",
    "- Disruption catalysts\n",
    "\n",
    "### Concept Catalysts\n",
    "- Get the right talent\n",
    "  - one team who likes to work on innivation projects\n",
    "  - one team who likes to optimise H1s\n",
    "  - interchange between teams\n",
    "  - cross-functional teams\n",
    "- Winnow ideas through disciplined experimentaton\n",
    "  - Pivot, Persevere or Kill\n",
    "\n",
    "### Fledgling Businesses\n",
    "- What's important here, is just straddling the things that you need to scale up and figure out how to do better with the things that you know are already working and you need to optimize. That's an interesting kind of hybrid challenge for a product manager\n",
    "\n",
    "### Mature Business\n",
    "- scaled, generating cash\n",
    "\n",
    "### *Successful innovators have better processes, not better ideas*"
   ]
  },
  {
   "cell_type": "markdown",
   "metadata": {},
   "source": [
    "---\n",
    "# From Proposition to Business Model"
   ]
  },
  {
   "cell_type": "markdown",
   "metadata": {},
   "source": [
    "---\n",
    "## Business Model Design\n",
    "\n",
    "### Are you sure you know the business?\n",
    "Define it with a clinical positioning statement:\n",
    "\n",
    "*For [target customer] who [statement of the need or opportunity] the [product name] is a [product category] that [statement of key benefit, compelling reason to buy]. Unlike [primary competitive alternative], our product [statement of primary differentiation].\n",
    "\n",
    "### Business Model Canvas (see slides):\n",
    "- **Who are the buyers, users and why do they buy stuff?**\n",
    "  - Value propositions (Why?)\n",
    "  - Customer segments (Who?)\n",
    "  - Map the personas to the value propositions\n",
    "- **Customer Journey**\n",
    "  - Customer relationships\n",
    "    - Way you will interact with the customer at various points in the journey\n",
    "    - Type of relationships you have with customer\n",
    "  - Channels\n",
    "    - How you deliver those relationships\n",
    "\n",
    "### Enhance storyboards with:\n",
    "- Thinks\n",
    "- Sees\n",
    "- Feels\n",
    "- Does"
   ]
  },
  {
   "cell_type": "markdown",
   "metadata": {},
   "source": []
  }
 ],
 "metadata": {
  "kernelspec": {
   "display_name": "Python 3",
   "language": "python",
   "name": "python3"
  },
  "language_info": {
   "codemirror_mode": {
    "name": "ipython",
    "version": 3
   },
   "file_extension": ".py",
   "mimetype": "text/x-python",
   "name": "python",
   "nbconvert_exporter": "python",
   "pygments_lexer": "ipython3",
   "version": "3.7.3"
  }
 },
 "nbformat": 4,
 "nbformat_minor": 2
}
